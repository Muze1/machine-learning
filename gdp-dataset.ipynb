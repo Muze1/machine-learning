{
 "cells": [
  {
   "cell_type": "code",
   "execution_count": 1,
   "id": "93dc68de",
   "metadata": {},
   "outputs": [
    {
     "name": "stdout",
     "output_type": "stream",
     "text": [
      "Requirement already satisfied: scikit-learn in /Users/umair/anaconda3/lib/python3.12/site-packages (1.5.1)\n",
      "Requirement already satisfied: numpy>=1.19.5 in /Users/umair/anaconda3/lib/python3.12/site-packages (from scikit-learn) (1.26.4)\n",
      "Requirement already satisfied: scipy>=1.6.0 in /Users/umair/anaconda3/lib/python3.12/site-packages (from scikit-learn) (1.13.1)\n",
      "Requirement already satisfied: joblib>=1.2.0 in /Users/umair/anaconda3/lib/python3.12/site-packages (from scikit-learn) (1.4.2)\n",
      "Requirement already satisfied: threadpoolctl>=3.1.0 in /Users/umair/anaconda3/lib/python3.12/site-packages (from scikit-learn) (3.5.0)\n"
     ]
    }
   ],
   "source": [
    "!pip3 install scikit-learn"
   ]
  },
  {
   "cell_type": "code",
   "execution_count": 2,
   "id": "4f46c988",
   "metadata": {},
   "outputs": [],
   "source": [
    "import sklearn.linear_model\n",
    "import numpy as np\n",
    "import pandas as pd\n",
    "import sklearn.linear_model"
   ]
  },
  {
   "cell_type": "code",
   "execution_count": 7,
   "id": "f25b6cf9",
   "metadata": {},
   "outputs": [],
   "source": [
    "file_gdp=\"gdp-bli/gdp_per_capita_2014-2025.csv\"\n",
    "file_happy=\"gdp-bli/BLI_25112020150937807.csv\"\n",
    "\n",
    "df_gdp=pd.read_csv(file_gdp,thousands=',',delimiter='\\t',encoding='latin1',na_values='n/a')\n",
    "df_happy=pd.read_csv(file_happy,thousands=',')"
   ]
  },
  {
   "cell_type": "code",
   "execution_count": null,
   "id": "de2e3e97",
   "metadata": {},
   "outputs": [],
   "source": [
    "rows=5\n",
    "df_gdp.head(rows)"
   ]
  },
  {
   "cell_type": "code",
   "execution_count": null,
   "id": "e6a4d111",
   "metadata": {},
   "outputs": [],
   "source": [
    "def prepare_country_stats(data_happy,data_gdp):\n",
    "    # Process happiness data\n",
    "    # select rows matching TOT in columns INEQUALITY\n",
    "    data_happy = data_happy[data_happy[\"INEQUALITY\"]==\"TOT\"]\n",
    "    # Create new df using 'Country' column as index and 'Indicator' as columns\n",
    "    # df is populated using values from column 'Values'\n",
    "    data_happy = data_happy.pivot(index=\"Country\", columns=\"Indicator\",values=\"Value\")\n",
    "\n",
    "    # Process GDP data\n",
    "    # rename column and set a new index\n",
    "    data_gdp = data_gdp.rename(columns={\"2021\":\"GDP per capita (2020)\"})\n",
    "    data_gdp = data_gdp.set_index(\"Country\")\n",
    "    \n",
    "    # Merge both datasets by country\n",
    "    merged_data = pd.merge(left=data_happy, right=data_gdp,left_index=True, right_index=True)\n",
    "    merged_data.sort_values(by=\"GDP per capita (2020)\",inplace=True)\n",
    "    \n",
    "    # Create two sub datasets for testing and validation\n",
    "    # We select two specific columns out of the merged dataset\n",
    "    remove_indices = [0, 1, 6, 8, 33, 34, 35, 36, 37, 38, 39]\n",
    "    keep_indices = list(set(range(merged_data.shape[0])) - set(remove_indices))\n",
    "    \n",
    "    test_data     = merged_data[[\"GDP per capita (2020)\",'Life satisfaction']].iloc[keep_indices]\n",
    "    validate_data = merged_data[[\"GDP per capita (2020)\",'Life satisfaction']].iloc[remove_indices]\n",
    "    \n",
    "    return test_data, validate_data"
   ]
  },
  {
   "cell_type": "code",
   "execution_count": null,
   "id": "95adf299",
   "metadata": {},
   "outputs": [],
   "source": [
    "country_stats_test, country_stats_validate = prepare_country_stats(df_happy, df_gdp)\n",
    "x = np.c_[country_stats_test[\"GDP per capita (2020)\"]]\n",
    "y = np.c_[country_stats_test[\"Life satisfaction\"]]"
   ]
  }
 ],
 "metadata": {
  "kernelspec": {
   "display_name": "base",
   "language": "python",
   "name": "python3"
  },
  "language_info": {
   "codemirror_mode": {
    "name": "ipython",
    "version": 3
   },
   "file_extension": ".py",
   "mimetype": "text/x-python",
   "name": "python",
   "nbconvert_exporter": "python",
   "pygments_lexer": "ipython3",
   "version": "3.12.7"
  }
 },
 "nbformat": 4,
 "nbformat_minor": 5
}
